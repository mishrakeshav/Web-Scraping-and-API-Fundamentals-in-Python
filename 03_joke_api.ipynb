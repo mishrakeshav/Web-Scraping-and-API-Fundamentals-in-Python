{
 "cells": [
  {
   "cell_type": "code",
   "execution_count": 1,
   "metadata": {},
   "outputs": [],
   "source": [
    "import requests\n",
    "import pandas as pd \n",
    "import json"
   ]
  },
  {
   "cell_type": "code",
   "execution_count": 2,
   "metadata": {},
   "outputs": [],
   "source": [
    "base_url = \"https://official-joke-api.appspot.com/\""
   ]
  },
  {
   "cell_type": "code",
   "execution_count": 14,
   "metadata": {},
   "outputs": [],
   "source": [
    "url = base_url + \"jokes/programming/ten\""
   ]
  },
  {
   "cell_type": "code",
   "execution_count": 16,
   "metadata": {},
   "outputs": [
    {
     "data": {
      "text/plain": [
       "[{'id': 383,\n",
       "  'type': 'programming',\n",
       "  'setup': 'An IPv6 packet is walking out of the house.',\n",
       "  'punchline': 'He goes nowhere.'},\n",
       " {'id': 378,\n",
       "  'type': 'programming',\n",
       "  'setup': \"What's the best part about TCP jokes?\",\n",
       "  'punchline': 'I get to keep telling them until you get them.'},\n",
       " {'id': 17,\n",
       "  'type': 'programming',\n",
       "  'setup': 'Where do programmers like to hangout?',\n",
       "  'punchline': 'The Foo Bar.'},\n",
       " {'id': 15,\n",
       "  'type': 'programming',\n",
       "  'setup': \"What's the best thing about a Boolean?\",\n",
       "  'punchline': \"Even if you're wrong, you're only off by a bit.\"},\n",
       " {'id': 73,\n",
       "  'type': 'programming',\n",
       "  'setup': 'The punchline often arrives before the set-up.',\n",
       "  'punchline': 'Do you know the problem with UDP jokes?'},\n",
       " {'id': 384,\n",
       "  'type': 'programming',\n",
       "  'setup': 'A DHCP packet walks into a bar and asks for a beer.',\n",
       "  'punchline': 'Bartender says, \"here, but I’ll need that back in an hour!\"'},\n",
       " {'id': 379,\n",
       "  'type': 'programming',\n",
       "  'setup': 'A programmer puts two glasses on his bedside table before going to sleep.',\n",
       "  'punchline': 'A full one, in case he gets thirsty, and an empty one, in case he doesn’t.'},\n",
       " {'id': 382,\n",
       "  'type': 'programming',\n",
       "  'setup': 'What did the router say to the doctor?',\n",
       "  'punchline': 'It hurts when IP.'},\n",
       " {'id': 56,\n",
       "  'type': 'programming',\n",
       "  'setup': 'How do you check if a webpage is HTML5?',\n",
       "  'punchline': 'Try it out on Internet Explorer'},\n",
       " {'id': 23,\n",
       "  'type': 'programming',\n",
       "  'setup': 'Why do programmers always mix up Halloween and Christmas?',\n",
       "  'punchline': 'Because Oct 31 == Dec 25'}]"
      ]
     },
     "execution_count": 16,
     "metadata": {},
     "output_type": "execute_result"
    }
   ],
   "source": [
    "response = requests.get(url)\n",
    "response.json()"
   ]
  },
  {
   "cell_type": "code",
   "execution_count": null,
   "metadata": {},
   "outputs": [],
   "source": []
  },
  {
   "cell_type": "code",
   "execution_count": null,
   "metadata": {},
   "outputs": [],
   "source": []
  }
 ],
 "metadata": {
  "kernelspec": {
   "display_name": "Python 3",
   "language": "python",
   "name": "python3"
  },
  "language_info": {
   "codemirror_mode": {
    "name": "ipython",
    "version": 3
   },
   "file_extension": ".py",
   "mimetype": "text/x-python",
   "name": "python",
   "nbconvert_exporter": "python",
   "pygments_lexer": "ipython3",
   "version": "3.7.1"
  }
 },
 "nbformat": 4,
 "nbformat_minor": 2
}
